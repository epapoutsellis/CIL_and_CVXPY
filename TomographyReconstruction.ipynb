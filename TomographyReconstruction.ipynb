{
 "cells": [
  {
   "cell_type": "code",
   "execution_count": 1,
   "id": "51dec861-35e3-4f08-91a9-191ba91e9219",
   "metadata": {},
   "outputs": [],
   "source": [
    "# Import libraries\n",
    "from cil.framework import  AcquisitionGeometry\n",
    "from cil.optimisation.functions import L2NormSquared, BlockFunction, MixedL21Norm, IndicatorBox\n",
    "from cil.optimisation.operators import GradientOperator, BlockOperator\n",
    "from cil.optimisation.algorithms import PDHG\n",
    "from cil.plugins.astra.operators import ProjectionOperator\n",
    "from cil.utilities.display import show2D\n",
    "from cil.utilities import dataexample\n",
    "from cil.plugins.astra.utilities import convert_geometry_to_astra\n",
    "\n",
    "import matplotlib.pyplot as plt\n",
    "\n",
    "from cvxpy import *\n",
    "import astra\n",
    "\n",
    "import numpy as np"
   ]
  },
  {
   "cell_type": "markdown",
   "id": "4af233b2-a324-41c1-a82a-8b77854d7287",
   "metadata": {},
   "source": [
    "## Create AcquisitionGeometry, ImageGeometry and ProjectionOperator"
   ]
  },
  {
   "cell_type": "code",
   "execution_count": 2,
   "id": "36a3c313-e8ec-49d6-9223-039b15ded289",
   "metadata": {},
   "outputs": [],
   "source": [
    "# Detectors\n",
    "N = 32\n",
    "detectors =  N\n",
    "\n",
    "# Angles\n",
    "angles = np.linspace(0,180,90, dtype='float32')\n",
    "\n",
    "# Setup acquisition geometry\n",
    "ag = AcquisitionGeometry.create_Parallel2D()\\\n",
    "                        .set_angles(angles)\\\n",
    "                        .set_panel(detectors)\n",
    "# Get image geometry\n",
    "ig = ag.get_ImageGeometry()\n",
    "\n",
    "# Create projection operator using Astra-Toolbox. Available CPU/CPU\n",
    "A = ProjectionOperator(ig, ag, device = 'cpu')"
   ]
  },
  {
   "cell_type": "markdown",
   "id": "8fae01aa-b7e5-4bc3-b93f-85a0880d5af1",
   "metadata": {},
   "source": [
    "## Create phantom"
   ]
  },
  {
   "cell_type": "code",
   "execution_count": 3,
   "id": "7722a2c9-2f98-4a34-bb8b-2d7b2f16f477",
   "metadata": {},
   "outputs": [],
   "source": [
    "# Get phantom\n",
    "phantom = dataexample.SIMPLE_PHANTOM_2D.get(size=(N, N))"
   ]
  },
  {
   "cell_type": "markdown",
   "id": "f182be1a-443d-420f-91e3-53607b60d07a",
   "metadata": {},
   "source": [
    "## Create sinogram "
   ]
  },
  {
   "cell_type": "code",
   "execution_count": 4,
   "id": "0c4a9704-1676-4159-9233-aeea17014199",
   "metadata": {},
   "outputs": [],
   "source": [
    "# Create an acqusition data\n",
    "sino = A.direct(phantom)"
   ]
  },
  {
   "cell_type": "markdown",
   "id": "4e00b3f2-40c0-41ab-8882-e9fd13af8751",
   "metadata": {},
   "source": [
    "## Get sparse projection matrix from the ProjectionOperator"
   ]
  },
  {
   "cell_type": "code",
   "execution_count": 5,
   "id": "446aaabf-fbe5-4453-a398-1be4c81a89af",
   "metadata": {},
   "outputs": [],
   "source": [
    "# convert to astra geometries\n",
    "ig_astra, ag_astra = convert_geometry_to_astra(ig, ag)\n",
    "\n",
    "# projection id\n",
    "proj_id = astra.create_projector('line', ag_astra, ig_astra)\n",
    "\n",
    "# matrix id\n",
    "matrix_id = astra.projector.matrix(proj_id)\n",
    "\n",
    "# Get the projection matrix as a Scipy sparse matrix.\n",
    "W = astra.matrix.get(matrix_id)"
   ]
  },
  {
   "cell_type": "markdown",
   "id": "b3f9cd8e-f9c5-4b8d-b0ed-667e6cd9ca29",
   "metadata": {},
   "source": [
    "## Compare matrix-free with matrix*vector implementation"
   ]
  },
  {
   "cell_type": "code",
   "execution_count": 6,
   "id": "08a1c5fc-c51d-4937-8bf2-9ac9b78b5f97",
   "metadata": {},
   "outputs": [
    {
     "data": {
      "image/png": "[encoded data removed]",
      "text/plain": [
       "<Figure size 432x288 with 2 Axes>"
      ]
     },
     "metadata": {
      "needs_background": "light"
     },
     "output_type": "display_data"
    }
   ],
   "source": [
    "sino_astra = np.reshape(W*phantom.array.ravel(),ag.shape)\n",
    "plt.figure()\n",
    "plt.imshow(np.abs(sino.array-sino_astra))\n",
    "plt.colorbar()\n",
    "plt.show()"
   ]
  },
  {
   "cell_type": "markdown",
   "id": "7865cce2-35f8-4da0-bcba-777e9980494a",
   "metadata": {},
   "source": [
    "## Regularisation parameter for TV regularisation"
   ]
  },
  {
   "cell_type": "code",
   "execution_count": 7,
   "id": "9ff5f899-4f98-4f55-9d8f-d4690a10125b",
   "metadata": {},
   "outputs": [],
   "source": [
    "alpha = 100"
   ]
  },
  {
   "cell_type": "markdown",
   "id": "9e1c6c0f-aa9f-4bb5-8e63-b4e8a1ec1bc1",
   "metadata": {},
   "source": [
    "## Solve with cvxpy\n",
    "\n",
    "To solve with cvxpy, we need a matrix representation of the ProjectionOperator.\n",
    "\n",
    "An alternative is to use [ProxImal](https://github.com/comp-imaging/ProxImaL) library as a matrix-free option."
   ]
  },
  {
   "cell_type": "code",
   "execution_count": 8,
   "id": "0c61b022-17d0-4d23-b9f8-a69beae9b29b",
   "metadata": {},
   "outputs": [
    {
     "name": "stdout",
     "output_type": "stream",
     "text": [
      "===============================================================================\n",
      "                                     CVXPY                                     \n",
      "                                    v1.1.15                                    \n",
      "===============================================================================\n",
      "(CVXPY) Dec 15 08:21:24 AM: Your problem has 1024 variables, 1 constraints, and 0 parameters.\n",
      "(CVXPY) Dec 15 08:21:24 AM: It is compliant with the following grammars: DCP, DQCP\n",
      "(CVXPY) Dec 15 08:21:24 AM: (If you need to solve this problem multiple times, but with different data, consider using parameters.)\n",
      "(CVXPY) Dec 15 08:21:24 AM: CVXPY will first compile your problem; then, it will invoke a numerical solver to obtain a solution.\n",
      "-------------------------------------------------------------------------------\n",
      "                                  Compilation                                  \n",
      "-------------------------------------------------------------------------------\n",
      "(CVXPY) Dec 15 08:21:24 AM: Compiling problem (target solver=SCS).\n",
      "(CVXPY) Dec 15 08:21:24 AM: Reduction chain: Dcp2Cone -> CvxAttr2Constr -> ConeMatrixStuffing -> SCS\n",
      "(CVXPY) Dec 15 08:21:24 AM: Applying reduction Dcp2Cone\n",
      "(CVXPY) Dec 15 08:21:24 AM: Applying reduction CvxAttr2Constr\n",
      "(CVXPY) Dec 15 08:21:24 AM: Applying reduction ConeMatrixStuffing\n",
      "(CVXPY) Dec 15 08:21:24 AM: Applying reduction SCS\n",
      "(CVXPY) Dec 15 08:21:24 AM: Finished problem compilation (took 1.504e-01 seconds).\n",
      "-------------------------------------------------------------------------------\n",
      "                                Numerical solver                               \n",
      "-------------------------------------------------------------------------------\n",
      "(CVXPY) Dec 15 08:21:24 AM: Invoking solver SCS  to obtain a solution.\n",
      "----------------------------------------------------------------------------\n",
      "\tSCS v2.1.4 - Splitting Conic Solver\n",
      "\t(c) Brendan O'Donoghue, Stanford University, 2012\n",
      "----------------------------------------------------------------------------\n",
      "Lin-sys: sparse-direct, nnz in A = 115831\n",
      "eps = 1.00e-04, alpha = 1.50, max_iters = 5000, normalize = 1, scale = 1.00\n",
      "acceleration_lookback = 10, rho_x = 1.00e-03\n",
      "Variables n = 1986, constraints m = 6789\n",
      "Cones:\tlinear vars: 1024\n",
      "\tsoc vars: 5765, soc blks: 962\n",
      "Setup time: 2.34e-01s\n",
      "----------------------------------------------------------------------------\n",
      " Iter | pri res | dua res | rel gap | pri obj | dua obj | kap/tau | time (s)\n",
      "----------------------------------------------------------------------------\n",
      "     0| 2.26e+20  3.30e+20  1.00e+00 -1.92e+26  4.81e+23  1.16e+26  5.37e-03 \n",
      "   100| 3.31e-04  4.17e-03  2.98e-04  6.63e+03  6.63e+03  2.60e-12  6.95e-01 \n",
      "   200| 1.23e-04  1.26e-03  2.56e-04  6.61e+03  6.61e+03  3.25e-12  1.34e+00 \n",
      "   300| 4.13e-05  6.12e-04  1.30e-04  6.62e+03  6.62e+03  7.00e-12  1.97e+00 \n",
      "   400| 1.48e-05  1.89e-04  1.23e-04  6.63e+03  6.63e+03  3.57e-11  2.61e+00 \n",
      "   460| 9.37e-06  9.84e-05  2.26e-05  6.63e+03  6.63e+03  1.68e-12  3.10e+00 \n",
      "----------------------------------------------------------------------------\n",
      "Status: Solved\n",
      "Timing: Solve time: 3.10e+00s\n",
      "\tLin-sys: nnz in L factor: 648247, avg solve time: 3.19e-03s\n",
      "\tCones: avg projection time: 3.22e-05s\n",
      "\tAcceleration: avg step time: 3.21e-03s\n",
      "----------------------------------------------------------------------------\n",
      "Error metrics:\n",
      "dist(s, K) = 2.2737e-13, dist(y, K*) = 8.5265e-14, s'y/|s||y| = -1.0523e-17\n",
      "primal res: |Ax + s - b|_2 / (1 + |b|_2) = 9.3725e-06\n",
      "dual res:   |A'y + c|_2 / (1 + |c|_2) = 9.8413e-05\n",
      "rel gap:    |c'x + b'y| / (1 + |c'x| + |b'y|) = 2.2632e-05\n",
      "----------------------------------------------------------------------------\n",
      "c'x = 6634.5068, -b'y = 6634.2065\n",
      "============================================================================\n",
      "-------------------------------------------------------------------------------\n",
      "                                    Summary                                    \n",
      "-------------------------------------------------------------------------------\n",
      "(CVXPY) Dec 15 08:21:28 AM: Problem status: optimal\n",
      "(CVXPY) Dec 15 08:21:28 AM: Optimal value: 6.642e+03\n",
      "(CVXPY) Dec 15 08:21:28 AM: Compilation took 1.504e-01 seconds\n",
      "(CVXPY) Dec 15 08:21:28 AM: Solver (including time spent in interface) took 3.352e+00 seconds\n"
     ]
    }
   ],
   "source": [
    "N, M = ig.shape\n",
    "u_cvx = Variable(N*M)\n",
    "fidelity = sum_squares(W@u_cvx.flatten() - sino.array.flatten())\n",
    "constraints = [u_cvx>=0]\n",
    "\n",
    "regulariser = (alpha) * tv(reshape(u_cvx, (N,M))) \n",
    "obj =  Minimize( regulariser +  fidelity)\n",
    "prob = Problem(obj, constraints)\n",
    "\n",
    "res = prob.solve(verbose = True, solver = SCS, eps=1e-4)"
   ]
  },
  {
   "cell_type": "markdown",
   "id": "8cef55a5-eb40-432a-b45e-42f809c0d7a9",
   "metadata": {
    "tags": []
   },
   "source": [
    "## Solve with CIL using the PDHG algorithm"
   ]
  },
  {
   "cell_type": "code",
   "execution_count": 9,
   "id": "9329f8c7-9462-439e-b864-e8a2f0dc75df",
   "metadata": {},
   "outputs": [
    {
     "name": "stdout",
     "output_type": "stream",
     "text": [
      "Initialised GradientOperator with C backend running with  20  threads\n",
      "PDHG setting up\n",
      "PDHG configured\n",
      "     Iter   Max Iter     Time/Iter        Primal          Dual     Primal-Dual\n",
      "                               [s]     Objective     Objective             Gap\n",
      "        0       3000         0.000    3.25987e+05  -0.00000e+00    3.25987e+05\n"
     ]
    },
    {
     "name": "stderr",
     "output_type": "stream",
     "text": [
      "/opt/anaconda3/envs/cil_devel_epaps/lib/python3.7/site-packages/cil/framework/framework.py:2421: RuntimeWarning: invalid value encountered in true_divide\n",
      "  pwop(self.as_array(), x2.as_array(), *args, **kwargs )\n"
     ]
    },
    {
     "name": "stdout",
     "output_type": "stream",
     "text": [
      "      500       3000         0.007    6.88734e+03   5.73411e+03    1.15323e+03\n",
      "     1000       3000         0.008    6.71964e+03   6.36772e+03    3.51920e+02\n",
      "     1500       3000         0.008    6.68013e+03   6.53405e+03    1.46077e+02\n",
      "     2000       3000         0.008    6.65576e+03   6.58625e+03    6.95139e+01\n",
      "     2500       3000         0.008    6.64719e+03   6.61190e+03    3.52965e+01\n",
      "     3000       3000         0.008    6.64371e+03   6.62034e+03    2.33727e+01\n",
      "----------------------------------------------------------------------------\n",
      "     3000       3000         0.008    6.64371e+03   6.62034e+03    2.33727e+01\n",
      "Stop criterion has been reached.\n",
      "\n"
     ]
    }
   ],
   "source": [
    "# Setup PDHG\n",
    "\n",
    "# separable sum\n",
    "f1 = L2NormSquared(b=sino)\n",
    "f2 = alpha * MixedL21Norm()\n",
    "f = BlockFunction(f1, f2)\n",
    "\n",
    "# non-negativity constraint\n",
    "g = IndicatorBox(lower=0.0)\n",
    "Grad = GradientOperator(ig)\n",
    "\n",
    "# BlockOperator\n",
    "K = BlockOperator(A, Grad)\n",
    "\n",
    "# stepsize\n",
    "sigma = 10\n",
    "\n",
    "# Run PDHG\n",
    "pdhg = PDHG(f = f, g = g, operator = K, update_objective_interval=500, max_iteration=3000, sigma=sigma)\n",
    "pdhg.run(verbose=2) \n",
    "u_cil = pdhg.solution"
   ]
  },
  {
   "cell_type": "code",
   "execution_count": 10,
   "id": "2fe5efd2-c4f9-436e-87c9-c36797665812",
   "metadata": {},
   "outputs": [
    {
     "name": "stdout",
     "output_type": "stream",
     "text": [
      "CVX objective = 6641.616740187816\n",
      "CIL objective = 6643.71435546875\n"
     ]
    },
    {
     "data": {
      "image/png": "[encoded data removed]",
      "text/plain": [
       "<Figure size 432x288 with 1 Axes>"
      ]
     },
     "metadata": {
      "needs_background": "light"
     },
     "output_type": "display_data"
    },
    {
     "data": {
      "image/png": "[encoded data removed]",
      "text/plain": [
       "<Figure size 1080x1080 with 6 Axes>"
      ]
     },
     "metadata": {},
     "output_type": "display_data"
    }
   ],
   "source": [
    "# reshape cvxpy solution\n",
    "u_cvx_arr = u_cvx.value.reshape(ig.shape)\n",
    "\n",
    "# print objectives\n",
    "print(\"CVX objective = {}\".format(obj.value))\n",
    "\n",
    "print(\"CIL objective = {}\".format(pdhg.objective[-1]))\n",
    "\n",
    "# show middle line profiles\n",
    "\n",
    "plt.figure()\n",
    "plt.plot(u_cil.array[int(N/2)], label=\"CIL\")\n",
    "plt.plot(u_cvx_arr[int(N/2)], label=\"CVXpy\")\n",
    "plt.legend()\n",
    "plt.show()\n",
    "\n",
    "show2D([u_cil.array, u_cvx_arr, np.abs(u_cil.array - u_cvx_arr)], num_cols = 3, origin=\"upper\")\n",
    "\n",
    "# compare solution\n",
    "np.testing.assert_almost_equal(u_cil.array, u_cvx_arr, decimal=2)"
   ]
  },
  {
   "cell_type": "code",
   "execution_count": null,
   "id": "b9450173-cbdf-4a51-8df8-2ee08fae4b8d",
   "metadata": {},
   "outputs": [],
   "source": []
  }
 ],
 "metadata": {
  "kernelspec": {
   "display_name": "Python [conda env:cil_devel_epaps] *",
   "language": "python",
   "name": "conda-env-cil_devel_epaps-py"
  },
  "language_info": {
   "codemirror_mode": {
    "name": "ipython",
    "version": 3
   },
   "file_extension": ".py",
   "mimetype": "text/x-python",
   "name": "python",
   "nbconvert_exporter": "python",
   "pygments_lexer": "ipython3",
   "version": "3.7.10"
  }
 },
 "nbformat": 4,
 "nbformat_minor": 5
}
