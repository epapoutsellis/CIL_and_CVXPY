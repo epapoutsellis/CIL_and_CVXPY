{
 "cells": [
  {
   "cell_type": "code",
   "execution_count": 1,
   "id": "d62f4331-efe2-4bcb-a55c-5e540721b716",
   "metadata": {},
   "outputs": [],
   "source": [
    "from cil.optimisation.operators import GradientOperator, SymmetrisedGradientOperator, IdentityOperator, ZeroOperator, BlockOperator\n",
    "from cil.optimisation.functions import MixedL21Norm, BlockFunction, L2NormSquared, ZeroFunction\n",
    "from cil.optimisation.algorithms import PDHG\n",
    "from cil.utilities import dataexample\n",
    "from cvxpy import *\n",
    "from regularisers import tgv\n",
    "import numpy as np\n",
    "import matplotlib.pyplot as plt\n",
    "from cil.utilities.display import show2D"
   ]
  },
  {
   "cell_type": "markdown",
   "id": "569d88e9-ec1d-4d6f-9bef-a6a40f5b7f0b",
   "metadata": {},
   "source": [
    "# Load Data and resize"
   ]
  },
  {
   "cell_type": "code",
   "execution_count": 2,
   "id": "af88e27d-d47d-4c33-9db6-fe87332ed95d",
   "metadata": {},
   "outputs": [],
   "source": [
    "data = dataexample.CAMERA.get(size=(32, 32))"
   ]
  },
  {
   "cell_type": "markdown",
   "id": "95ff0e41-ccbc-49e7-9737-98ad84296cbc",
   "metadata": {},
   "source": [
    "# Setup and run tgv denoising with cvxpy"
   ]
  },
  {
   "cell_type": "code",
   "execution_count": 3,
   "id": "c63d3590-e4c6-47fc-89fd-04ec31b9fe5b",
   "metadata": {},
   "outputs": [
    {
     "name": "stdout",
     "output_type": "stream",
     "text": [
      "===============================================================================\n",
      "                                     CVXPY                                     \n",
      "                                    v1.1.17                                    \n",
      "===============================================================================\n",
      "(CVXPY) Dec 06 07:53:11 PM: Your problem has 3072 variables, 0 constraints, and 0 parameters.\n",
      "(CVXPY) Dec 06 07:53:11 PM: It is compliant with the following grammars: DCP, DQCP\n",
      "(CVXPY) Dec 06 07:53:11 PM: (If you need to solve this problem multiple times, but with different data, consider using parameters.)\n",
      "(CVXPY) Dec 06 07:53:11 PM: CVXPY will first compile your problem; then, it will invoke a numerical solver to obtain a solution.\n",
      "-------------------------------------------------------------------------------\n",
      "                                  Compilation                                  \n",
      "-------------------------------------------------------------------------------\n",
      "(CVXPY) Dec 06 07:53:11 PM: Compiling problem (target solver=SCS).\n",
      "(CVXPY) Dec 06 07:53:11 PM: Reduction chain: Dcp2Cone -> CvxAttr2Constr -> ConeMatrixStuffing -> SCS\n",
      "(CVXPY) Dec 06 07:53:11 PM: Applying reduction Dcp2Cone\n",
      "(CVXPY) Dec 06 07:53:11 PM: Applying reduction CvxAttr2Constr\n",
      "(CVXPY) Dec 06 07:53:11 PM: Applying reduction ConeMatrixStuffing\n",
      "(CVXPY) Dec 06 07:53:11 PM: Applying reduction SCS\n",
      "(CVXPY) Dec 06 07:53:11 PM: Finished problem compilation (took 2.995e-02 seconds).\n",
      "-------------------------------------------------------------------------------\n",
      "                                Numerical solver                               \n",
      "-------------------------------------------------------------------------------\n",
      "(CVXPY) Dec 06 07:53:11 PM: Invoking solver SCS  to obtain a solution.\n",
      "------------------------------------------------------------------\n",
      "\t       SCS v3.0.0 - Splitting Conic Solver\n",
      "\t(c) Brendan O'Donoghue, Stanford University, 2012\n",
      "------------------------------------------------------------------\n",
      "problem:  variables n: 5121, constraints m: 9218\n",
      "cones: \t  q: soc vars: 9218, qsize: 2049\n",
      "settings: eps_abs: 1.0e-05, eps_rel: 1.0e-05, eps_infeas: 1.0e-07\n",
      "\t  alpha: 1.50, scale: 1.00e-01, adaptive_scale: 1\n",
      "\t  max_iters: 100000, normalize: 1, warm_start: 0\n",
      "\t  acceleration_lookback: 10, acceleration_interval: 10\n",
      "lin-sys:  sparse-direct\n",
      "\t  nnz(A): 20994, nnz(P): 0\n",
      "------------------------------------------------------------------\n",
      " iter | pri res | dua res |   gap   |   obj   |  scale  | time (s)\n",
      "------------------------------------------------------------------\n",
      "     0| 1.36e+01  5.11e-01  2.58e+03 -1.29e+03  1.00e-01  7.93e-03 \n",
      "   250| 2.58e-03  1.79e-04  7.20e-03  8.46e+00  1.00e-01  4.30e-01 \n",
      "   500| 1.06e-03  2.19e-05  1.66e-03  8.47e+00  1.00e-01  1.16e+00 \n",
      "   750| 8.23e-04  2.36e-05  9.50e-04  8.47e+00  1.00e-01  1.91e+00 \n",
      "  1000| 5.55e-04  4.07e-06  6.86e-04  8.47e+00  1.00e-01  2.65e+00 \n",
      "  1250| 4.14e-04  6.05e-06  4.16e-04  8.47e+00  1.00e-01  3.19e+00 \n",
      "  1500| 4.23e-04  5.41e-07  3.15e-04  8.47e+00  1.00e-01  3.69e+00 \n",
      "  1750| 2.66e-04  6.43e-06  1.95e-04  8.47e+00  1.00e-01  4.37e+00 \n",
      "  2000| 1.80e-04  2.44e-07  1.37e-04  8.47e+00  1.00e-01  5.18e+00 \n",
      "  2250| 1.42e-04  1.95e-07  1.15e-04  8.47e+00  1.00e-01  5.83e+00 \n",
      "  2500| 1.32e-04  1.65e-07  1.02e-04  8.47e+00  1.00e-01  6.60e+00 \n",
      "  2750| 2.92e-01  2.51e-02  3.18e-06  8.47e+00  1.00e-01  7.31e+00 \n",
      "  2875| 1.01e-04  4.41e-06  6.91e-05  8.47e+00  1.00e-01  7.66e+00 \n",
      "------------------------------------------------------------------\n",
      "status:  solved\n",
      "timings: total: 7.69e+00s = setup: 3.15e-02s + solve: 7.66e+00s\n",
      "\t lin-sys: 5.91e+00s, cones: 5.44e-01s, accel: 4.64e-01s\n",
      "------------------------------------------------------------------\n",
      "objective = 8.473567\n",
      "------------------------------------------------------------------\n",
      "-------------------------------------------------------------------------------\n",
      "                                    Summary                                    \n",
      "-------------------------------------------------------------------------------\n",
      "(CVXPY) Dec 06 07:53:18 PM: Problem status: optimal\n",
      "(CVXPY) Dec 06 07:53:18 PM: Optimal value: 8.476e+00\n",
      "(CVXPY) Dec 06 07:53:18 PM: Compilation took 2.995e-02 seconds\n",
      "(CVXPY) Dec 06 07:53:18 PM: Solver (including time spent in interface) took 7.711e+00 seconds\n"
     ]
    }
   ],
   "source": [
    "# solution\n",
    "u_cvx = Variable(data.shape)\n",
    "w1_cvx = Variable(data.shape)\n",
    "w2_cvx = Variable(data.shape)\n",
    "\n",
    "# regularisation parameters\n",
    "alpha0 = 0.1\n",
    "alpha1 = 0.3\n",
    "\n",
    "# fidelity term\n",
    "fidelity = 0.5 * sum_squares(u_cvx - data.array)   \n",
    "regulariser = tgv(u_cvx, w1_cvx, w2_cvx, alpha1, alpha0)\n",
    "\n",
    "# objective\n",
    "obj =  Minimize( regulariser +  fidelity)\n",
    "prob = Problem(obj, constraints = [])\n",
    "\n",
    "# Choose solver ( SCS, MOSEK(license needed) )\n",
    "tv_cvxpy = prob.solve(verbose = True, solver = SCS)"
   ]
  },
  {
   "cell_type": "markdown",
   "id": "c3948c92-bf1c-4900-bfc1-c1ff1e4e0538",
   "metadata": {},
   "source": [
    "# Setup TGV denoising using CIL and the PDHG algorithm"
   ]
  },
  {
   "cell_type": "code",
   "execution_count": 4,
   "id": "d37c9e67-0f4a-4cbb-b4f4-ceb0f2eef4a7",
   "metadata": {},
   "outputs": [
    {
     "name": "stdout",
     "output_type": "stream",
     "text": [
      "Initialised GradientOperator with C backend running with  20  threads\n",
      "PDHG setting up\n",
      "PDHG configured\n",
      "     Iter   Max Iter     Time/Iter        Primal          Dual     Primal-Dual\n",
      "                               [s]     Objective     Objective             Gap\n",
      "        0       1000         0.000    2.15422e+02  -0.00000e+00    2.15422e+02\n"
     ]
    },
    {
     "name": "stderr",
     "output_type": "stream",
     "text": [
      "/opt/anaconda3/envs/cil_cvxpy/lib/python3.9/site-packages/cil/optimisation/algorithms/PDHG.py:477: UserWarning: Convergence criterion of PDHG for scalar step-sizes is not satisfied.\n",
      "  warnings.warn(\"Convergence criterion of PDHG for scalar step-sizes is not satisfied.\")\n",
      "/opt/anaconda3/envs/cil_cvxpy/lib/python3.9/site-packages/cil/framework/framework.py:2421: RuntimeWarning: invalid value encountered in true_divide\n",
      "  pwop(self.as_array(), x2.as_array(), *args, **kwargs )\n"
     ]
    },
    {
     "name": "stdout",
     "output_type": "stream",
     "text": [
      "      500       1000         0.008    8.48440e+00   8.46977e+00    1.46298e-02\n",
      "     1000       1000         0.008    8.47692e+00   8.47331e+00    3.61393e-03\n",
      "----------------------------------------------------------------------------\n",
      "     1000       1000         0.008    8.47692e+00   8.47331e+00    3.61393e-03\n",
      "Stop criterion has been reached.\n",
      "\n"
     ]
    }
   ],
   "source": [
    "ig = data.geometry\n",
    "\n",
    "K11 = GradientOperator(ig)\n",
    "K22 = SymmetrisedGradientOperator(K11.range)\n",
    "K12 = IdentityOperator(K11.range)\n",
    "K21 = ZeroOperator(ig, K22.range)\n",
    "K = BlockOperator(K11, -K12, K21, K22, shape=(2,2) )\n",
    "\n",
    "f1 = alpha1 * MixedL21Norm()\n",
    "f2 = alpha0 * MixedL21Norm()\n",
    "F = BlockFunction(f1, f2)\n",
    "G = BlockFunction(0.5 * L2NormSquared(b=data), ZeroFunction())\n",
    "\n",
    "sigma = 1./np.sqrt(12)\n",
    "tau = 1./np.sqrt(12)\n",
    "\n",
    "# Setup and run the PDHG algorithm\n",
    "pdhg_tgv = PDHG(f=F,g=G,operator=K,\n",
    "            max_iteration = 1000, sigma=sigma, tau=tau,\n",
    "            update_objective_interval = 500)\n",
    "pdhg_tgv.run(verbose = 2)"
   ]
  },
  {
   "cell_type": "markdown",
   "id": "f7a3dd7e-6501-4f1f-b179-7dfe8cf1b00a",
   "metadata": {},
   "source": [
    "# Compare solutions"
   ]
  },
  {
   "cell_type": "code",
   "execution_count": 5,
   "id": "04b98efe-e3b2-461a-a10a-c72e116f3d40",
   "metadata": {},
   "outputs": [
    {
     "name": "stdout",
     "output_type": "stream",
     "text": [
      "CVX objective = 8.476068484702772\n",
      "CIL objective = 8.476922034844755\n"
     ]
    },
    {
     "data": {
      "image/png": "[encoded data removed]",
      "text/plain": [
       "<Figure size 432x288 with 1 Axes>"
      ]
     },
     "metadata": {
      "needs_background": "light"
     },
     "output_type": "display_data"
    },
    {
     "data": {
      "image/png": "[encoded data removed]",
      "text/plain": [
       "<Figure size 1080x1080 with 6 Axes>"
      ]
     },
     "metadata": {},
     "output_type": "display_data"
    },
    {
     "data": {
      "text/plain": [
       "<cil.utilities.display.show2D at 0x7ff0d3876910>"
      ]
     },
     "execution_count": 5,
     "metadata": {},
     "output_type": "execute_result"
    }
   ],
   "source": [
    "np.testing.assert_almost_equal(pdhg_tgv.solution[0].array, u_cvx.value, decimal=3)\n",
    "\n",
    "# print objectives\n",
    "print(\"CVX objective = {}\".format(obj.value))\n",
    "print(\"CIL objective = {}\".format(pdhg_tgv.objective[-1]))\n",
    "\n",
    "# show middle line profiles\n",
    "N, M = data.shape\n",
    "plt.figure()\n",
    "plt.plot(pdhg_tgv.solution[0].array[int(N/2)], label=\"CIL\")\n",
    "plt.plot(u_cvx.value[int(N/2)], label=\"CVXpy\")\n",
    "plt.legend()\n",
    "plt.show()\n",
    "\n",
    "show2D([pdhg_tgv.solution[0].array, u_cvx.value, np.abs(pdhg_tgv.solution[0].array - u_cvx.value)], num_cols = 3, origin=\"upper\")"
   ]
  }
 ],
 "metadata": {
  "kernelspec": {
   "display_name": "Python [conda env:cil_cvxpy]",
   "language": "python",
   "name": "conda-env-cil_cvxpy-py"
  },
  "language_info": {
   "codemirror_mode": {
    "name": "ipython",
    "version": 3
   },
   "file_extension": ".py",
   "mimetype": "text/x-python",
   "name": "python",
   "nbconvert_exporter": "python",
   "pygments_lexer": "ipython3",
   "version": "3.9.7"
  }
 },
 "nbformat": 4,
 "nbformat_minor": 5
}
