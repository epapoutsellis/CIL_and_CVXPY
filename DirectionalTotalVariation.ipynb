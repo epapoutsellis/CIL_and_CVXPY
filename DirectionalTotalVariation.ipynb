{
 "cells": [
  {
   "cell_type": "code",
   "execution_count": 6,
   "id": "fee0f96f-860f-4180-8694-72806b8fc393",
   "metadata": {},
   "outputs": [],
   "source": [
    "from cil.optimisation.functions import L2NormSquared, MixedL21Norm\n",
    "from cil.optimisation.operators import DiagonalOperator, CompositionOperator,FiniteDifferenceOperator, IdentityOperator, BlockOperator\n",
    "from cil.optimisation.algorithms import PDHG\n",
    "from cil.utilities.display import show2D\n",
    "from cil.utilities import dataexample\n",
    "from cvxpy import *\n",
    "from regularisers import dtv\n",
    "import numpy as np\n",
    "import matplotlib.pyplot as plt"
   ]
  },
  {
   "cell_type": "markdown",
   "id": "ecadfc86-6a30-4afd-82a5-8b4cd69b21b1",
   "metadata": {},
   "source": [
    "# Load Data and resize"
   ]
  },
  {
   "cell_type": "code",
   "execution_count": 7,
   "id": "d1b493f3-6254-4b94-b765-3c8df6f91ed8",
   "metadata": {},
   "outputs": [],
   "source": [
    "data = dataexample.CAMERA.get(size=(32, 32))"
   ]
  },
  {
   "cell_type": "markdown",
   "id": "29d6ff46-3a01-4fba-9407-ce927e974d30",
   "metadata": {},
   "source": [
    "# Setup and run directional tv denoising with cvxpy"
   ]
  },
  {
   "cell_type": "code",
   "execution_count": 8,
   "id": "6f1ec617-4058-47a2-95cf-ef63d350d6f0",
   "metadata": {},
   "outputs": [
    {
     "name": "stdout",
     "output_type": "stream",
     "text": [
      "===============================================================================\n",
      "                                     CVXPY                                     \n",
      "                                    v1.1.17                                    \n",
      "===============================================================================\n",
      "(CVXPY) Dec 06 08:01:03 PM: Your problem has 1024 variables, 0 constraints, and 0 parameters.\n",
      "(CVXPY) Dec 06 08:01:03 PM: It is compliant with the following grammars: DCP, DQCP\n",
      "(CVXPY) Dec 06 08:01:03 PM: (If you need to solve this problem multiple times, but with different data, consider using parameters.)\n",
      "(CVXPY) Dec 06 08:01:03 PM: CVXPY will first compile your problem; then, it will invoke a numerical solver to obtain a solution.\n",
      "-------------------------------------------------------------------------------\n",
      "                                  Compilation                                  \n",
      "-------------------------------------------------------------------------------\n",
      "(CVXPY) Dec 06 08:01:03 PM: Compiling problem (target solver=SCS).\n",
      "(CVXPY) Dec 06 08:01:03 PM: Reduction chain: Dcp2Cone -> CvxAttr2Constr -> ConeMatrixStuffing -> SCS\n",
      "(CVXPY) Dec 06 08:01:03 PM: Applying reduction Dcp2Cone\n",
      "(CVXPY) Dec 06 08:01:03 PM: Applying reduction CvxAttr2Constr\n",
      "(CVXPY) Dec 06 08:01:03 PM: Applying reduction ConeMatrixStuffing\n",
      "(CVXPY) Dec 06 08:01:03 PM: Applying reduction SCS\n",
      "(CVXPY) Dec 06 08:01:03 PM: Finished problem compilation (took 2.913e-02 seconds).\n",
      "-------------------------------------------------------------------------------\n",
      "                                Numerical solver                               \n",
      "-------------------------------------------------------------------------------\n",
      "(CVXPY) Dec 06 08:01:03 PM: Invoking solver SCS  to obtain a solution.\n"
     ]
    },
    {
     "name": "stderr",
     "output_type": "stream",
     "text": [
      "/opt/anaconda3/envs/cil_cvxpy/lib/python3.9/site-packages/cvxpy/expressions/expression.py:558: UserWarning: \n",
      "This use of ``*`` has resulted in matrix multiplication.\n",
      "Using ``*`` for matrix multiplication has been deprecated since CVXPY 1.1.\n",
      "    Use ``*`` for matrix-scalar and vector-scalar multiplication.\n",
      "    Use ``@`` for matrix-matrix and matrix-vector multiplication.\n",
      "    Use ``multiply`` for elementwise multiplication.\n",
      "This code path has been hit 3 times so far.\n",
      "\n",
      "  warnings.warn(msg, UserWarning)\n",
      "/opt/anaconda3/envs/cil_cvxpy/lib/python3.9/site-packages/cvxpy/expressions/expression.py:558: UserWarning: \n",
      "This use of ``*`` has resulted in matrix multiplication.\n",
      "Using ``*`` for matrix multiplication has been deprecated since CVXPY 1.1.\n",
      "    Use ``*`` for matrix-scalar and vector-scalar multiplication.\n",
      "    Use ``@`` for matrix-matrix and matrix-vector multiplication.\n",
      "    Use ``multiply`` for elementwise multiplication.\n",
      "This code path has been hit 4 times so far.\n",
      "\n",
      "  warnings.warn(msg, UserWarning)\n"
     ]
    },
    {
     "name": "stdout",
     "output_type": "stream",
     "text": [
      "------------------------------------------------------------------\n",
      "\t       SCS v3.0.0 - Splitting Conic Solver\n",
      "\t(c) Brendan O'Donoghue, Stanford University, 2012\n",
      "------------------------------------------------------------------\n",
      "problem:  variables n: 2049, constraints m: 4098\n",
      "cones: \t  q: soc vars: 4098, qsize: 1025\n",
      "settings: eps_abs: 1.0e-05, eps_rel: 1.0e-05, eps_infeas: 1.0e-07\n",
      "\t  alpha: 1.50, scale: 1.00e-01, adaptive_scale: 1\n",
      "\t  max_iters: 100000, normalize: 1, warm_start: 0\n",
      "\t  acceleration_lookback: 10, acceleration_interval: 10\n",
      "lin-sys:  sparse-direct\n",
      "\t  nnz(A): 7584, nnz(P): 0\n",
      "------------------------------------------------------------------\n",
      " iter | pri res | dua res |   gap   |   obj   |  scale  | time (s)\n",
      "------------------------------------------------------------------\n",
      "     0| 2.55e+01  1.01e+00  5.04e+03 -2.52e+03  1.00e-01  6.64e-03 \n",
      "   250| 1.43e-02  8.10e-05  6.56e-02  2.90e+01  1.00e-01  1.11e-01 \n",
      "   500| 4.79e-03  1.43e-04  2.47e-02  2.92e+01  1.00e-01  2.33e-01 \n",
      "   750| 2.21e-03  3.07e-05  5.93e-03  2.93e+01  1.00e-01  3.57e-01 \n",
      "  1000| 1.91e-03  5.50e-06  3.10e-03  2.93e+01  1.00e-01  4.77e-01 \n",
      "  1250| 1.80e-03  5.52e-06  1.76e-03  2.93e+01  1.00e-01  6.01e-01 \n",
      "  1500| 6.95e-04  3.22e-05  8.09e-04  2.93e+01  1.00e-01  7.21e-01 \n",
      "  1750| 5.34e-04  2.03e-06  5.15e-04  2.93e+01  1.00e-01  8.41e-01 \n",
      "  2000| 4.06e-04  7.99e-06  7.59e-04  2.93e+01  3.18e-01  9.63e-01 \n",
      "  2250| 1.72e-04  8.63e-06  3.35e-04  2.93e+01  3.18e-01  1.08e+00 \n",
      "  2500| 1.48e-04  5.86e-07  1.95e-04  2.93e+01  3.18e-01  1.20e+00 \n",
      "  2750| 1.16e-04  2.49e-06  1.43e-04  2.93e+01  1.01e+00  1.33e+00 \n",
      "------------------------------------------------------------------\n",
      "status:  solved\n",
      "timings: total: 1.35e+00s = setup: 1.94e-02s + solve: 1.33e+00s\n",
      "\t lin-sys: 7.80e-01s, cones: 2.05e-01s, accel: 5.46e-02s\n",
      "------------------------------------------------------------------\n",
      "objective = 29.273343\n",
      "------------------------------------------------------------------\n",
      "-------------------------------------------------------------------------------\n",
      "                                    Summary                                    \n",
      "-------------------------------------------------------------------------------\n",
      "(CVXPY) Dec 06 08:01:05 PM: Problem status: optimal\n",
      "(CVXPY) Dec 06 08:01:05 PM: Optimal value: 2.927e+01\n",
      "(CVXPY) Dec 06 08:01:05 PM: Compilation took 2.913e-02 seconds\n",
      "(CVXPY) Dec 06 08:01:05 PM: Solver (including time spent in interface) took 1.368e+00 seconds\n"
     ]
    }
   ],
   "source": [
    "# Reference image\n",
    "reference = data * 0.01\n",
    "\n",
    "# Construct problem    \n",
    "u_cvx = Variable(data.shape)\n",
    "\n",
    "# fidelity\n",
    "fidelity = sum_squares(u_cvx - data.array)   \n",
    "\n",
    "# regulariser\n",
    "eta = 0.1\n",
    "alpha = 0.5\n",
    "regulariser = alpha * dtv(u_cvx, reference, eta) \n",
    "constraints = []\n",
    "\n",
    "obj =  Minimize( regulariser +  fidelity)\n",
    "prob = Problem(obj, constraints)\n",
    "\n",
    "# Choose solver (SCS is fast but less accurate than MOSEK)\n",
    "res = prob.solve(verbose = True, solver = SCS, eps=1e-5)"
   ]
  },
  {
   "cell_type": "markdown",
   "id": "6c43d181-3ba1-4770-82b8-7f50780c0343",
   "metadata": {},
   "source": [
    "# Setup 2D directional TV denoising, using CIL and the PDHG algorithm"
   ]
  },
  {
   "cell_type": "code",
   "execution_count": 9,
   "id": "9b0d120a-a52c-468c-8a53-f458074bfc94",
   "metadata": {},
   "outputs": [
    {
     "name": "stdout",
     "output_type": "stream",
     "text": [
      "PDHG setting up\n",
      "PDHG configured\n",
      "     Iter   Max Iter     Time/Iter        Primal          Dual     Primal-Dual\n",
      "                               [s]     Objective     Objective             Gap\n",
      "        0        500         0.000    4.30843e+02  -0.00000e+00    4.30843e+02\n"
     ]
    },
    {
     "name": "stderr",
     "output_type": "stream",
     "text": [
      "/opt/anaconda3/envs/cil_cvxpy/lib/python3.9/site-packages/cil/optimisation/algorithms/PDHG.py:358: UserWarning: Primal Acceleration of PDHG: The function g is assumed to be strongly convex with positive parameter `gamma_g`. You need to be sure that gamma_g = 1.0 is the correct strongly convex constant for g. \n",
      "  warnings.warn(\"Primal Acceleration of PDHG: The function g is assumed to be strongly convex with positive parameter `gamma_g`. You need to be sure that gamma_g = {} is the correct strongly convex constant for g. \".format(self.gamma_g))\n",
      "/opt/anaconda3/envs/cil_cvxpy/lib/python3.9/site-packages/cil/framework/framework.py:2421: RuntimeWarning: invalid value encountered in true_divide\n",
      "  pwop(self.as_array(), x2.as_array(), *args, **kwargs )\n"
     ]
    },
    {
     "name": "stdout",
     "output_type": "stream",
     "text": [
      "      100        500         0.020    2.93090e+01   2.92706e+01    3.84407e-02\n",
      "      200        500         0.020    2.92777e+01   2.92733e+01    4.38690e-03\n",
      "      300        500         0.020    2.92747e+01   2.92733e+01    1.40190e-03\n",
      "      400        500         0.020    2.92745e+01   2.92735e+01    1.02043e-03\n",
      "      500        500         0.020    2.92737e+01   2.92735e+01    2.35558e-04\n",
      "----------------------------------------------------------------------------\n",
      "      500        500         0.020    2.92737e+01   2.92735e+01    2.35558e-04\n",
      "Stop criterion has been reached.\n",
      "\n"
     ]
    }
   ],
   "source": [
    "ig = data.geometry\n",
    "\n",
    "# fidelity term\n",
    "g = L2NormSquared(b=data)\n",
    "\n",
    "# setup operator for directional TV\n",
    "DY = FiniteDifferenceOperator(ig, direction=1)\n",
    "DX = FiniteDifferenceOperator(ig, direction=0)\n",
    "\n",
    "Grad = BlockOperator(DY, DX)\n",
    "grad_ref = Grad.direct(reference)\n",
    "denom = (eta**2 + grad_ref.pnorm(2)**2).sqrt()\n",
    "xi = grad_ref/denom\n",
    "\n",
    "A1 = DY - CompositionOperator(DiagonalOperator(xi[0]**2),DY) - CompositionOperator(DiagonalOperator(xi[0]*xi[1]),DX)\n",
    "A2 = DX - CompositionOperator(DiagonalOperator(xi[0]*xi[1]),DY) - CompositionOperator(DiagonalOperator(xi[1]**2),DX)\n",
    "\n",
    "operator = BlockOperator(A1, A2)\n",
    "\n",
    "f = alpha * MixedL21Norm()\n",
    "\n",
    "# use primal acceleration due to g being strongly convex\n",
    "pdhg = PDHG(f = f, g = g, operator = operator, \n",
    "            max_iteration=500, update_objective_interval = 100, gamma_g = 1.)\n",
    "pdhg.run(verbose=2)"
   ]
  },
  {
   "cell_type": "markdown",
   "id": "3ac4fe68-4f68-4d7a-9e5c-5ac4f287f1a4",
   "metadata": {},
   "source": [
    "# Compare solutions"
   ]
  },
  {
   "cell_type": "code",
   "execution_count": 10,
   "id": "c764bbe5-8734-4f39-836a-1fb1d19bb432",
   "metadata": {},
   "outputs": [
    {
     "name": "stdout",
     "output_type": "stream",
     "text": [
      "CVX objective = 29.274418222513003\n",
      "CIL objective = 29.27371597290039\n"
     ]
    },
    {
     "data": {
      "image/png": "[encoded data removed]",
      "text/plain": [
       "<Figure size 432x288 with 1 Axes>"
      ]
     },
     "metadata": {
      "needs_background": "light"
     },
     "output_type": "display_data"
    },
    {
     "data": {
      "image/png": "[encoded data removed]",
      "text/plain": [
       "<Figure size 1080x1080 with 6 Axes>"
      ]
     },
     "metadata": {},
     "output_type": "display_data"
    },
    {
     "data": {
      "text/plain": [
       "<cil.utilities.display.show2D at 0x7fa1c05bc9d0>"
      ]
     },
     "execution_count": 10,
     "metadata": {},
     "output_type": "execute_result"
    }
   ],
   "source": [
    "np.testing.assert_almost_equal(pdhg.solution.array, u_cvx.value, decimal=3)\n",
    "\n",
    "# print objectives\n",
    "print(\"CVX objective = {}\".format(obj.value))\n",
    "\n",
    "print(\"CIL objective = {}\".format(pdhg.objective[-1]))\n",
    "\n",
    "# show middle line profiles\n",
    "N, M = data.shape\n",
    "plt.figure()\n",
    "plt.plot(pdhg.solution.array[int(N/2)], label=\"CIL\")\n",
    "plt.plot(u_cvx.value[int(N/2)], label=\"CVXpy\")\n",
    "plt.legend()\n",
    "plt.show()\n",
    "\n",
    "show2D([pdhg.solution.array, u_cvx.value, np.abs(pdhg.solution.array - u_cvx.value)], num_cols = 3, origin=\"upper\")\n"
   ]
  },
  {
   "cell_type": "code",
   "execution_count": null,
   "id": "cf9144e8-81dc-4064-8a98-bf706acf49f4",
   "metadata": {},
   "outputs": [],
   "source": []
  }
 ],
 "metadata": {
  "kernelspec": {
   "display_name": "Python [conda env:cil_cvxpy]",
   "language": "python",
   "name": "conda-env-cil_cvxpy-py"
  },
  "language_info": {
   "codemirror_mode": {
    "name": "ipython",
    "version": 3
   },
   "file_extension": ".py",
   "mimetype": "text/x-python",
   "name": "python",
   "nbconvert_exporter": "python",
   "pygments_lexer": "ipython3",
   "version": "3.9.7"
  }
 },
 "nbformat": 4,
 "nbformat_minor": 5
}
