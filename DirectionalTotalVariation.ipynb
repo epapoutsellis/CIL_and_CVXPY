{
 "cells": [
  {
   "cell_type": "code",
   "execution_count": 1,
   "id": "fee0f96f-860f-4180-8694-72806b8fc393",
   "metadata": {},
   "outputs": [],
   "source": [
    "from cil.optimisation.functions import L2NormSquared, MixedL21Norm\n",
    "from cil.optimisation.operators import DiagonalOperator, CompositionOperator,FiniteDifferenceOperator, IdentityOperator, BlockOperator\n",
    "from cil.optimisation.algorithms import PDHG\n",
    "from cil.utilities.display import show2D\n",
    "from cil.utilities import dataexample\n",
    "from cvxpy import *\n",
    "from regularisers import dtv\n",
    "import numpy as np\n",
    "import matplotlib.pyplot as plt"
   ]
  },
  {
   "cell_type": "markdown",
   "id": "ecadfc86-6a30-4afd-82a5-8b4cd69b21b1",
   "metadata": {},
   "source": [
    "# Load Data and resize"
   ]
  },
  {
   "cell_type": "code",
   "execution_count": 2,
   "id": "d1b493f3-6254-4b94-b765-3c8df6f91ed8",
   "metadata": {},
   "outputs": [],
   "source": [
    "data = dataexample.CAMERA.get(size=(32, 32))"
   ]
  },
  {
   "cell_type": "markdown",
   "id": "29d6ff46-3a01-4fba-9407-ce927e974d30",
   "metadata": {},
   "source": [
    "# Setup and run directional tv denoising with cvxpy"
   ]
  },
  {
   "cell_type": "code",
   "execution_count": 3,
   "id": "6f1ec617-4058-47a2-95cf-ef63d350d6f0",
   "metadata": {},
   "outputs": [
    {
     "name": "stdout",
     "output_type": "stream",
     "text": [
      "===============================================================================\n",
      "                                     CVXPY                                     \n",
      "                                    v1.1.15                                    \n",
      "===============================================================================\n",
      "(CVXPY) Dec 06 07:28:42 PM: Your problem has 1024 variables, 0 constraints, and 0 parameters.\n",
      "(CVXPY) Dec 06 07:28:42 PM: It is compliant with the following grammars: DCP, DQCP\n",
      "(CVXPY) Dec 06 07:28:42 PM: (If you need to solve this problem multiple times, but with different data, consider using parameters.)\n",
      "(CVXPY) Dec 06 07:28:42 PM: CVXPY will first compile your problem; then, it will invoke a numerical solver to obtain a solution.\n",
      "-------------------------------------------------------------------------------\n",
      "                                  Compilation                                  \n",
      "-------------------------------------------------------------------------------\n",
      "(CVXPY) Dec 06 07:28:42 PM: Compiling problem (target solver=SCS).\n",
      "(CVXPY) Dec 06 07:28:42 PM: Reduction chain: Dcp2Cone -> CvxAttr2Constr -> ConeMatrixStuffing -> SCS\n",
      "(CVXPY) Dec 06 07:28:42 PM: Applying reduction Dcp2Cone\n",
      "(CVXPY) Dec 06 07:28:42 PM: Applying reduction CvxAttr2Constr\n",
      "(CVXPY) Dec 06 07:28:42 PM: Applying reduction ConeMatrixStuffing\n",
      "(CVXPY) Dec 06 07:28:42 PM: Applying reduction SCS\n",
      "(CVXPY) Dec 06 07:28:42 PM: Finished problem compilation (took 3.126e-02 seconds).\n",
      "-------------------------------------------------------------------------------\n",
      "                                Numerical solver                               \n",
      "-------------------------------------------------------------------------------\n",
      "(CVXPY) Dec 06 07:28:42 PM: Invoking solver SCS  to obtain a solution.\n"
     ]
    },
    {
     "name": "stderr",
     "output_type": "stream",
     "text": [
      "/opt/anaconda3/envs/cil_devel_epaps/lib/python3.7/site-packages/cvxpy/expressions/expression.py:556: UserWarning: \n",
      "This use of ``*`` has resulted in matrix multiplication.\n",
      "Using ``*`` for matrix multiplication has been deprecated since CVXPY 1.1.\n",
      "    Use ``*`` for matrix-scalar and vector-scalar multiplication.\n",
      "    Use ``@`` for matrix-matrix and matrix-vector multiplication.\n",
      "    Use ``multiply`` for elementwise multiplication.\n",
      "This code path has been hit 1 times so far.\n",
      "\n",
      "  warnings.warn(msg, UserWarning)\n",
      "/opt/anaconda3/envs/cil_devel_epaps/lib/python3.7/site-packages/cvxpy/expressions/expression.py:556: UserWarning: \n",
      "This use of ``*`` has resulted in matrix multiplication.\n",
      "Using ``*`` for matrix multiplication has been deprecated since CVXPY 1.1.\n",
      "    Use ``*`` for matrix-scalar and vector-scalar multiplication.\n",
      "    Use ``@`` for matrix-matrix and matrix-vector multiplication.\n",
      "    Use ``multiply`` for elementwise multiplication.\n",
      "This code path has been hit 2 times so far.\n",
      "\n",
      "  warnings.warn(msg, UserWarning)\n",
      "/opt/anaconda3/envs/cil_devel_epaps/lib/python3.7/site-packages/cvxpy/expressions/expression.py:556: UserWarning: \n",
      "This use of ``*`` has resulted in matrix multiplication.\n",
      "Using ``*`` for matrix multiplication has been deprecated since CVXPY 1.1.\n",
      "    Use ``*`` for matrix-scalar and vector-scalar multiplication.\n",
      "    Use ``@`` for matrix-matrix and matrix-vector multiplication.\n",
      "    Use ``multiply`` for elementwise multiplication.\n",
      "This code path has been hit 3 times so far.\n",
      "\n",
      "  warnings.warn(msg, UserWarning)\n",
      "/opt/anaconda3/envs/cil_devel_epaps/lib/python3.7/site-packages/cvxpy/expressions/expression.py:556: UserWarning: \n",
      "This use of ``*`` has resulted in matrix multiplication.\n",
      "Using ``*`` for matrix multiplication has been deprecated since CVXPY 1.1.\n",
      "    Use ``*`` for matrix-scalar and vector-scalar multiplication.\n",
      "    Use ``@`` for matrix-matrix and matrix-vector multiplication.\n",
      "    Use ``multiply`` for elementwise multiplication.\n",
      "This code path has been hit 4 times so far.\n",
      "\n",
      "  warnings.warn(msg, UserWarning)\n"
     ]
    },
    {
     "name": "stdout",
     "output_type": "stream",
     "text": [
      "----------------------------------------------------------------------------\n",
      "\tSCS v2.1.4 - Splitting Conic Solver\n",
      "\t(c) Brendan O'Donoghue, Stanford University, 2012\n",
      "----------------------------------------------------------------------------\n",
      "Lin-sys: sparse-direct, nnz in A = 7584\n",
      "eps = 1.00e-05, alpha = 1.50, max_iters = 5000, normalize = 1, scale = 1.00\n",
      "acceleration_lookback = 10, rho_x = 1.00e-03\n",
      "Variables n = 2049, constraints m = 4098\n",
      "Cones:\tsoc vars: 4098, soc blks: 1025\n",
      "Setup time: 1.07e-02s\n",
      "----------------------------------------------------------------------------\n",
      " Iter | pri res | dua res | rel gap | pri obj | dua obj | kap/tau | time (s)\n",
      "----------------------------------------------------------------------------\n",
      "     0| 4.86e+20  6.62e+20  1.00e+00 -1.16e+23  6.37e+21  2.54e+22  1.14e-02 \n",
      "   100| 4.60e-05  1.32e-04  9.88e-07  2.93e+01  2.93e+01  7.91e-15  3.15e-01 \n",
      "   200| 1.57e-05  3.83e-05  3.18e-06  2.93e+01  2.93e+01  2.79e-14  5.97e-01 \n",
      "   300| 1.38e-05  3.19e-05  1.23e-05  2.93e+01  2.93e+01  2.10e-14  1.11e+00 \n",
      "   400| 6.28e-06  1.55e-05  1.49e-06  2.93e+01  2.93e+01  3.59e-15  1.82e+00 \n",
      "   440| 4.48e-06  9.39e-06  2.44e-07  2.93e+01  2.93e+01  1.72e-14  2.17e+00 \n",
      "----------------------------------------------------------------------------\n",
      "Status: Solved\n",
      "Timing: Solve time: 2.17e+00s\n",
      "\tLin-sys: nnz in L factor: 28037, avg solve time: 1.87e-04s\n",
      "\tCones: avg projection time: 2.69e-05s\n",
      "\tAcceleration: avg step time: 4.51e-03s\n",
      "----------------------------------------------------------------------------\n",
      "Error metrics:\n",
      "dist(s, K) = 1.1102e-16, dist(y, K*) = 1.1102e-16, s'y/|s||y| = -1.4239e-17\n",
      "primal res: |Ax + s - b|_2 / (1 + |b|_2) = 4.4785e-06\n",
      "dual res:   |A'y + c|_2 / (1 + |c|_2) = 9.3852e-06\n",
      "rel gap:    |c'x + b'y| / (1 + |c'x| + |b'y|) = 2.4364e-07\n",
      "----------------------------------------------------------------------------\n",
      "c'x = 29.2735, -b'y = 29.2735\n",
      "============================================================================\n",
      "-------------------------------------------------------------------------------\n",
      "                                    Summary                                    \n",
      "-------------------------------------------------------------------------------\n",
      "(CVXPY) Dec 06 07:28:44 PM: Problem status: optimal\n",
      "(CVXPY) Dec 06 07:28:44 PM: Optimal value: 2.927e+01\n",
      "(CVXPY) Dec 06 07:28:44 PM: Compilation took 3.126e-02 seconds\n",
      "(CVXPY) Dec 06 07:28:44 PM: Solver (including time spent in interface) took 2.199e+00 seconds\n"
     ]
    }
   ],
   "source": [
    "# Reference image\n",
    "reference = data * 0.01\n",
    "\n",
    "# Construct problem    \n",
    "u_cvx = Variable(data.shape)\n",
    "\n",
    "# fidelity\n",
    "fidelity = sum_squares(u_cvx - data.array)   \n",
    "\n",
    "# regulariser\n",
    "eta = 0.1\n",
    "alpha = 0.5\n",
    "regulariser = alpha * dtv(u_cvx, reference, eta) \n",
    "constraints = []\n",
    "\n",
    "obj =  Minimize( regulariser +  fidelity)\n",
    "prob = Problem(obj, constraints)\n",
    "\n",
    "# Choose solver (SCS is fast but less accurate than MOSEK)\n",
    "res = prob.solve(verbose = True, solver = SCS, eps=1e-5)"
   ]
  },
  {
   "cell_type": "markdown",
   "id": "6c43d181-3ba1-4770-82b8-7f50780c0343",
   "metadata": {},
   "source": [
    "# Setup 2D directional TV denoising, using CIL and the PDHG algorithm"
   ]
  },
  {
   "cell_type": "code",
   "execution_count": 4,
   "id": "9b0d120a-a52c-468c-8a53-f458074bfc94",
   "metadata": {},
   "outputs": [
    {
     "name": "stdout",
     "output_type": "stream",
     "text": [
      "PDHG setting up\n",
      "PDHG configured\n",
      "     Iter   Max Iter     Time/Iter        Primal          Dual     Primal-Dual\n",
      "                               [s]     Objective     Objective             Gap\n",
      "        0        500         0.000    4.30843e+02  -0.00000e+00    4.30843e+02\n"
     ]
    },
    {
     "name": "stderr",
     "output_type": "stream",
     "text": [
      "/opt/anaconda3/envs/cil_devel_epaps/lib/python3.7/site-packages/cil/optimisation/algorithms/PDHG.py:358: UserWarning: Primal Acceleration of PDHG: The function g is assumed to be strongly convex with positive parameter `gamma_g`. You need to be sure that gamma_g = 1.0 is the correct strongly convex constant for g. \n",
      "  warnings.warn(\"Primal Acceleration of PDHG: The function g is assumed to be strongly convex with positive parameter `gamma_g`. You need to be sure that gamma_g = {} is the correct strongly convex constant for g. \".format(self.gamma_g))\n",
      "/opt/anaconda3/envs/cil_devel_epaps/lib/python3.7/site-packages/cil/framework/framework.py:2421: RuntimeWarning: invalid value encountered in true_divide\n",
      "  pwop(self.as_array(), x2.as_array(), *args, **kwargs )\n"
     ]
    },
    {
     "name": "stdout",
     "output_type": "stream",
     "text": [
      "      100        500         0.044    2.93090e+01   2.92706e+01    3.83387e-02\n",
      "      200        500         0.043    2.92777e+01   2.92733e+01    4.36878e-03\n",
      "      300        500         0.043    2.92747e+01   2.92733e+01    1.39904e-03\n",
      "      400        500         0.041    2.92745e+01   2.92735e+01    1.02711e-03\n",
      "      500        500         0.037    2.92737e+01   2.92735e+01    2.34604e-04\n",
      "----------------------------------------------------------------------------\n",
      "      500        500         0.037    2.92737e+01   2.92735e+01    2.34604e-04\n",
      "Stop criterion has been reached.\n",
      "\n"
     ]
    }
   ],
   "source": [
    "ig = data.geometry\n",
    "\n",
    "# fidelity term\n",
    "g = L2NormSquared(b=data)\n",
    "\n",
    "# setup operator for directional TV\n",
    "DY = FiniteDifferenceOperator(ig, direction=1)\n",
    "DX = FiniteDifferenceOperator(ig, direction=0)\n",
    "\n",
    "Grad = BlockOperator(DY, DX)\n",
    "grad_ref = Grad.direct(reference)\n",
    "denom = (eta**2 + grad_ref.pnorm(2)**2).sqrt()\n",
    "xi = grad_ref/denom\n",
    "\n",
    "A1 = DY - CompositionOperator(DiagonalOperator(xi[0]**2),DY) - CompositionOperator(DiagonalOperator(xi[0]*xi[1]),DX)\n",
    "A2 = DX - CompositionOperator(DiagonalOperator(xi[0]*xi[1]),DY) - CompositionOperator(DiagonalOperator(xi[1]**2),DX)\n",
    "\n",
    "operator = BlockOperator(A1, A2)\n",
    "\n",
    "f = alpha * MixedL21Norm()\n",
    "\n",
    "# use primal acceleration due to g being strongly convex\n",
    "pdhg = PDHG(f = f, g = g, operator = operator, \n",
    "            max_iteration=500, update_objective_interval = 100, gamma_g = 1.)\n",
    "pdhg.run(verbose=2)"
   ]
  },
  {
   "cell_type": "markdown",
   "id": "3ac4fe68-4f68-4d7a-9e5c-5ac4f287f1a4",
   "metadata": {},
   "source": [
    "# Compare solutions"
   ]
  },
  {
   "cell_type": "code",
   "execution_count": 6,
   "id": "c764bbe5-8734-4f39-836a-1fb1d19bb432",
   "metadata": {},
   "outputs": [
    {
     "name": "stdout",
     "output_type": "stream",
     "text": [
      "CVX objective = 29.273819440563372\n",
      "CIL objective = 29.273714065551758\n"
     ]
    },
    {
     "data": {
      "image/png": "[encoded data removed]",
      "text/plain": [
       "<Figure size 432x288 with 1 Axes>"
      ]
     },
     "metadata": {
      "needs_background": "light"
     },
     "output_type": "display_data"
    },
    {
     "data": {
      "image/png": "[encoded data removed]",
      "text/plain": [
       "<Figure size 1080x1080 with 6 Axes>"
      ]
     },
     "metadata": {},
     "output_type": "display_data"
    },
    {
     "data": {
      "text/plain": [
       "<cil.utilities.display.show2D at 0x7f73f2cfbf90>"
      ]
     },
     "execution_count": 6,
     "metadata": {},
     "output_type": "execute_result"
    }
   ],
   "source": [
    "np.testing.assert_almost_equal(pdhg.solution.array, u_cvx.value, decimal=3)\n",
    "\n",
    "# print objectives\n",
    "print(\"CVX objective = {}\".format(obj.value))\n",
    "\n",
    "print(\"CIL objective = {}\".format(pdhg.objective[-1]))\n",
    "\n",
    "# show middle line profiles\n",
    "N, M = data.shape\n",
    "plt.figure()\n",
    "plt.plot(pdhg.solution.array[int(N/2)], label=\"CIL\")\n",
    "plt.plot(u_cvx.value[int(N/2)], label=\"CVXpy\")\n",
    "plt.legend()\n",
    "plt.show()\n",
    "\n",
    "show2D([pdhg.solution.array, u_cvx.value, np.abs(pdhg.solution.array - u_cvx.value)], num_cols = 3, origin=\"upper\")\n"
   ]
  }
 ],
 "metadata": {
  "kernelspec": {
   "display_name": "Python [conda env:cil_devel_epaps] *",
   "language": "python",
   "name": "conda-env-cil_devel_epaps-py"
  },
  "language_info": {
   "codemirror_mode": {
    "name": "ipython",
    "version": 3
   },
   "file_extension": ".py",
   "mimetype": "text/x-python",
   "name": "python",
   "nbconvert_exporter": "python",
   "pygments_lexer": "ipython3",
   "version": "3.7.10"
  }
 },
 "nbformat": 4,
 "nbformat_minor": 5
}
