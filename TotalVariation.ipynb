{
 "cells": [
  {
   "cell_type": "code",
   "execution_count": 1,
   "id": "379f0a10-b77a-47a1-8858-64190d67c48a",
   "metadata": {},
   "outputs": [],
   "source": [
    "from cil.optimisation.functions.L2NormSquared import L2NormSquared\n",
    "from cil.utilities import dataexample\n",
    "from cvxpy import *\n",
    "from regularisers import tv\n",
    "from cil.optimisation.functions import TotalVariation\n",
    "import numpy as np\n",
    "import matplotlib.pyplot as plt\n",
    "from cil.utilities.display import show2D"
   ]
  },
  {
   "cell_type": "markdown",
   "id": "12a8cd78-a70f-48ba-8eff-6f6506eeb051",
   "metadata": {},
   "source": [
    "# Load data and resize"
   ]
  },
  {
   "cell_type": "code",
   "execution_count": 2,
   "id": "eec3a2c8-0734-44c1-b362-83e2f13d6ab8",
   "metadata": {},
   "outputs": [],
   "source": [
    "data = dataexample.CAMERA.get(size=(32, 32))"
   ]
  },
  {
   "cell_type": "markdown",
   "id": "fcad0d4d-7db5-48aa-83ff-cb88b30cb2eb",
   "metadata": {},
   "source": [
    "# Setup and run tv denoising with cvxpy"
   ]
  },
  {
   "cell_type": "code",
   "execution_count": 3,
   "id": "df8d2513-528b-4052-b5d8-4ce28eac4bc6",
   "metadata": {},
   "outputs": [
    {
     "name": "stdout",
     "output_type": "stream",
     "text": [
      "===============================================================================\n",
      "                                     CVXPY                                     \n",
      "                                    v1.1.15                                    \n",
      "===============================================================================\n",
      "(CVXPY) Dec 06 07:30:26 PM: Your problem has 1024 variables, 0 constraints, and 0 parameters.\n",
      "(CVXPY) Dec 06 07:30:26 PM: It is compliant with the following grammars: DCP, DQCP\n",
      "(CVXPY) Dec 06 07:30:26 PM: (If you need to solve this problem multiple times, but with different data, consider using parameters.)\n",
      "(CVXPY) Dec 06 07:30:26 PM: CVXPY will first compile your problem; then, it will invoke a numerical solver to obtain a solution.\n",
      "-------------------------------------------------------------------------------\n",
      "                                  Compilation                                  \n",
      "-------------------------------------------------------------------------------\n",
      "(CVXPY) Dec 06 07:30:26 PM: Compiling problem (target solver=SCS).\n",
      "(CVXPY) Dec 06 07:30:26 PM: Reduction chain: Dcp2Cone -> CvxAttr2Constr -> ConeMatrixStuffing -> SCS\n",
      "(CVXPY) Dec 06 07:30:26 PM: Applying reduction Dcp2Cone\n",
      "(CVXPY) Dec 06 07:30:26 PM: Applying reduction CvxAttr2Constr\n",
      "(CVXPY) Dec 06 07:30:26 PM: Applying reduction ConeMatrixStuffing\n",
      "(CVXPY) Dec 06 07:30:26 PM: Applying reduction SCS\n",
      "(CVXPY) Dec 06 07:30:26 PM: Finished problem compilation (took 1.891e-02 seconds).\n",
      "-------------------------------------------------------------------------------\n",
      "                                Numerical solver                               \n",
      "-------------------------------------------------------------------------------\n",
      "(CVXPY) Dec 06 07:30:26 PM: Invoking solver SCS  to obtain a solution.\n",
      "----------------------------------------------------------------------------\n",
      "\tSCS v2.1.4 - Splitting Conic Solver\n",
      "\t(c) Brendan O'Donoghue, Stanford University, 2012\n",
      "----------------------------------------------------------------------------\n",
      "Lin-sys: sparse-direct, nnz in A = 6018\n",
      "eps = 1.00e-04, alpha = 1.50, max_iters = 5000, normalize = 1, scale = 1.00\n",
      "acceleration_lookback = 10, rho_x = 1.00e-03\n",
      "Variables n = 2049, constraints m = 4098\n",
      "Cones:\tsoc vars: 4098, soc blks: 1025\n",
      "Setup time: 5.33e-03s\n",
      "----------------------------------------------------------------------------\n",
      " Iter | pri res | dua res | rel gap | pri obj | dua obj | kap/tau | time (s)\n",
      "----------------------------------------------------------------------------\n",
      "     0| 4.93e+20  5.45e+20  1.00e+00 -2.36e+22  1.74e+21  4.78e+21  9.19e-03 \n",
      "   100| 1.81e-04  3.54e-04  1.29e-04  7.89e+00  7.89e+00  7.50e-16  1.84e-01 \n",
      "   140| 6.40e-05  9.30e-05  4.19e-05  7.89e+00  7.89e+00  5.00e-15  2.49e-01 \n",
      "----------------------------------------------------------------------------\n",
      "Status: Solved\n",
      "Timing: Solve time: 2.49e-01s\n",
      "\tLin-sys: nnz in L factor: 22968, avg solve time: 1.54e-04s\n",
      "\tCones: avg projection time: 3.15e-05s\n",
      "\tAcceleration: avg step time: 1.33e-03s\n",
      "----------------------------------------------------------------------------\n",
      "Error metrics:\n",
      "dist(s, K) = 1.1709e-16, dist(y, K*) = 2.7756e-17, s'y/|s||y| = 1.5868e-16\n",
      "primal res: |Ax + s - b|_2 / (1 + |b|_2) = 6.4019e-05\n",
      "dual res:   |A'y + c|_2 / (1 + |c|_2) = 9.3041e-05\n",
      "rel gap:    |c'x + b'y| / (1 + |c'x| + |b'y|) = 4.1932e-05\n",
      "----------------------------------------------------------------------------\n",
      "c'x = 7.8931, -b'y = 7.8924\n",
      "============================================================================\n",
      "-------------------------------------------------------------------------------\n",
      "                                    Summary                                    \n",
      "-------------------------------------------------------------------------------\n",
      "(CVXPY) Dec 06 07:30:26 PM: Problem status: optimal\n",
      "(CVXPY) Dec 06 07:30:26 PM: Optimal value: 7.894e+00\n",
      "(CVXPY) Dec 06 07:30:26 PM: Compilation took 1.891e-02 seconds\n",
      "(CVXPY) Dec 06 07:30:26 PM: Solver (including time spent in interface) took 2.728e-01 seconds\n"
     ]
    }
   ],
   "source": [
    "# solution\n",
    "u_cvx = Variable(data.shape)\n",
    "\n",
    "# regularisation parameter\n",
    "alpha = 0.1\n",
    "\n",
    "# fidelity term\n",
    "fidelity = 0.5 * sum_squares(u_cvx - data.array)   \n",
    "regulariser = alpha * tv(u_cvx)\n",
    "\n",
    "# objective\n",
    "obj =  Minimize( regulariser +  fidelity)\n",
    "prob = Problem(obj, constraints = [])\n",
    "\n",
    "# Choose solver ( SCS, MOSEK(license needed) )\n",
    "tv_cvxpy = prob.solve(verbose = True, solver = SCS)"
   ]
  },
  {
   "cell_type": "markdown",
   "id": "7b65944b-0c61-436b-b691-729e7ee6a414",
   "metadata": {},
   "source": [
    "# Use TotalVariation function from CIL"
   ]
  },
  {
   "cell_type": "code",
   "execution_count": 4,
   "id": "58ed46f9-1894-4dfc-90e8-95be1b04c8a8",
   "metadata": {},
   "outputs": [
    {
     "name": "stdout",
     "output_type": "stream",
     "text": [
      "Initialised GradientOperator with C backend running with  20  threads\n"
     ]
    }
   ],
   "source": [
    "# use TotalVariation from CIL (with Fast Gradient Projection algorithm)\n",
    "TV = alpha * TotalVariation(max_iteration=100)\n",
    "u_cil = TV.proximal(data, tau=1.0)"
   ]
  },
  {
   "cell_type": "markdown",
   "id": "ba2e34e0-7bed-4bd8-a91d-84cf323704e6",
   "metadata": {},
   "source": [
    "# Compare solutions"
   ]
  },
  {
   "cell_type": "code",
   "execution_count": null,
   "id": "2a82667f-cc2c-4ab9-bf87-e52b4e89ccc3",
   "metadata": {},
   "outputs": [
    {
     "name": "stdout",
     "output_type": "stream",
     "text": [
      "CVX objective = 7.893654988695406\n",
      "CIL objective = 7.895644903182983\n"
     ]
    },
    {
     "data": {
      "image/png": "[encoded data removed]",
      "text/plain": [
       "<Figure size 432x288 with 1 Axes>"
      ]
     },
     "metadata": {
      "needs_background": "light"
     },
     "output_type": "display_data"
    }
   ],
   "source": [
    "# compare solution\n",
    "np.testing.assert_almost_equal(u_cil.array, u_cvx.value, decimal=3)\n",
    "\n",
    "# print objectives\n",
    "print(\"CVX objective = {}\".format(obj.value))\n",
    "\n",
    "f = 0.5*L2NormSquared(b=data)\n",
    "cil_objective = TV(u_cil) + f(u_cil)\n",
    "print(\"CIL objective = {}\".format(cil_objective))\n",
    "\n",
    "# show middle line profiles\n",
    "N, M = data.shape\n",
    "plt.figure()\n",
    "plt.plot(u_cil.array[int(N/2)], label=\"CIL\")\n",
    "plt.plot(u_cvx.value[int(N/2)], label=\"CVXpy\")\n",
    "plt.legend()\n",
    "plt.show()\n",
    "\n",
    "show2D([u_cil.array, u_cvx.value, np.abs(u_cil.array - u_cvx.value)], num_cols = 3, origin=\"upper\")"
   ]
  },
  {
   "cell_type": "code",
   "execution_count": null,
   "id": "27ead7da-2416-4ab9-8ea0-a803be230341",
   "metadata": {},
   "outputs": [],
   "source": []
  }
 ],
 "metadata": {
  "kernelspec": {
   "display_name": "Python [conda env:cil_devel_epaps] *",
   "language": "python",
   "name": "conda-env-cil_devel_epaps-py"
  },
  "language_info": {
   "codemirror_mode": {
    "name": "ipython",
    "version": 3
   },
   "file_extension": ".py",
   "mimetype": "text/x-python",
   "name": "python",
   "nbconvert_exporter": "python",
   "pygments_lexer": "ipython3",
   "version": "3.7.10"
  }
 },
 "nbformat": 4,
 "nbformat_minor": 5
}
